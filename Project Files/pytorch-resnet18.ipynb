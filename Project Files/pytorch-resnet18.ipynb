# 1. Imports
import torch
import torchvision
import torchvision.transforms as transforms
from torchvision import models
import torch.nn as nn
from torch.utils.data import DataLoader
import os

# 2. Transforms and Dataset
transform = transforms.Compose([
    transforms.Resize((224, 224)),
    transforms.ToTensor()
])

train_dataset = torchvision.datasets.ImageFolder(root='data/train', transform=transform)
train_loader = DataLoader(train_dataset, batch_size=16, shuffle=True)

# 3. Model Setup
model = models.resnet18(pretrained=True)
model.fc = nn.Linear(model.fc.in_features, 4)  # 4 classes

# 4. Training Loop
criterion = nn.CrossEntropyLoss()
optimizer = torch.optim.Adam(model.parameters(), lr=0.001)

for epoch in range(5):  # keep low for testing
    for inputs, labels in train_loader:
        optimizer.zero_grad()
        outputs = model(inputs)
        loss = criterion(outputs, labels)
        loss.backward()
        optimizer.step()

# 5. Save Model
torch.save(model.state_dict(), "models/resnet18_model.pth")
     
